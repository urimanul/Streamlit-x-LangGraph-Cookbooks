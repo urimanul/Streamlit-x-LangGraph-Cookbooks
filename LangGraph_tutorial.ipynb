{
  "nbformat": 4,
  "nbformat_minor": 0,
  "metadata": {
    "colab": {
      "provenance": [],
      "include_colab_link": true
    },
    "kernelspec": {
      "name": "python3",
      "display_name": "Python 3"
    },
    "language_info": {
      "name": "python"
    }
  },
  "cells": [
    {
      "cell_type": "markdown",
      "metadata": {
        "id": "view-in-github",
        "colab_type": "text"
      },
      "source": [
        "<a href=\"https://colab.research.google.com/github/urimanul/Streamlit-x-LangGraph-Cookbooks/blob/master/LangGraph_tutorial.ipynb\" target=\"_parent\"><img src=\"https://colab.research.google.com/assets/colab-badge.svg\" alt=\"Open In Colab\"/></a>"
      ]
    },
    {
      "cell_type": "code",
      "execution_count": 1,
      "metadata": {
        "id": "x47Z-zxGpOyc"
      },
      "outputs": [],
      "source": [
        "%%capture --no-stderr\n",
        "%pip install -U langgraph httpx langchain_openai"
      ]
    },
    {
      "cell_type": "markdown",
      "source": [
        "# BasicGraph"
      ],
      "metadata": {
        "id": "1XzLTthMpZ7I"
      }
    },
    {
      "cell_type": "code",
      "source": [
        "def node_a(input):\n",
        "    input += \" a\"\n",
        "    return input\n",
        "\n",
        "def node_b(input):\n",
        "    input += \" b\"\n",
        "    return input"
      ],
      "metadata": {
        "id": "voQXpRkgpaVY"
      },
      "execution_count": 2,
      "outputs": []
    },
    {
      "cell_type": "code",
      "source": [
        "from langgraph.graph import Graph\n",
        "from IPython.display import Image, display"
      ],
      "metadata": {
        "id": "QUSa4SkD7rzl"
      },
      "execution_count": 3,
      "outputs": []
    },
    {
      "cell_type": "code",
      "source": [
        "graph = Graph()\n",
        "\n",
        "graph.add_node(\"node_a\", node_a)\n",
        "graph.add_node(\"node_b\", node_b)\n",
        "graph.set_entry_point(\"node_a\")\n",
        "graph.set_finish_point(\"node_b\")\n",
        "graph.add_edge(\"node_a\", \"node_b\")\n",
        "runner = graph.compile()"
      ],
      "metadata": {
        "id": "a4TqRljn7x0Z"
      },
      "execution_count": 4,
      "outputs": []
    },
    {
      "cell_type": "code",
      "source": [
        "display(Image(runner.get_graph().draw_mermaid_png()))"
      ],
      "metadata": {
        "colab": {
          "base_uri": "https://localhost:8080/",
          "height": 350
        },
        "id": "TtqgpZco9Rki",
        "outputId": "22d6727b-20c5-4f39-c554-44c747951fc0"
      },
      "execution_count": 5,
      "outputs": [
        {
          "output_type": "display_data",
          "data": {
            "image/png": "[encoded data removed]",
            "text/plain": [
              "<IPython.core.display.Image object>"
            ]
          },
          "metadata": {}
        }
      ]
    },
    {
      "cell_type": "code",
      "source": [
        "runner.invoke(\"こんにちは\")"
      ],
      "metadata": {
        "colab": {
          "base_uri": "https://localhost:8080/",
          "height": 35
        },
        "id": "LJEuv4ND32Yv",
        "outputId": "2b07b9b7-8bb2-4d47-82d4-2c3f25c59dcc"
      },
      "execution_count": 6,
      "outputs": [
        {
          "output_type": "execute_result",
          "data": {
            "text/plain": [
              "'こんにちは a b'"
            ],
            "application/vnd.google.colaboratory.intrinsic+json": {
              "type": "string"
            }
          },
          "metadata": {},
          "execution_count": 6
        }
      ]
    },
    {
      "cell_type": "code",
      "source": [],
      "metadata": {
        "id": "eZsshiql30ec"
      },
      "execution_count": null,
      "outputs": []
    },
    {
      "cell_type": "code",
      "source": [],
      "metadata": {
        "id": "1TEcl7z_pz2C"
      },
      "execution_count": null,
      "outputs": []
    },
    {
      "cell_type": "code",
      "source": [],
      "metadata": {
        "id": "lz7BixKrp5Lx"
      },
      "execution_count": null,
      "outputs": []
    },
    {
      "cell_type": "code",
      "source": [],
      "metadata": {
        "id": "ic4mEGKrp5R3"
      },
      "execution_count": null,
      "outputs": []
    },
    {
      "cell_type": "markdown",
      "source": [
        "# MessageGraph"
      ],
      "metadata": {
        "id": "3W-cA-Pep0US"
      }
    },
    {
      "cell_type": "code",
      "source": [
        "def node_a(input):\n",
        "    input[0].content += \" a\"\n",
        "    return input\n",
        "\n",
        "def node_b(input):\n",
        "    input[0].content += \" b\"\n",
        "    return input"
      ],
      "metadata": {
        "id": "mYJUeJZUpfb4"
      },
      "execution_count": 7,
      "outputs": []
    },
    {
      "cell_type": "code",
      "source": [
        "from langgraph.graph import MessageGraph\n",
        "from langchain_core.messages import HumanMessage\n",
        "\n",
        "graph = MessageGraph()\n",
        "graph.add_node(\"node_a\", node_a)\n",
        "graph.add_node(\"node_b\", node_b)\n",
        "graph.set_entry_point(\"node_a\")\n",
        "graph.set_finish_point(\"node_b\")\n",
        "graph.add_edge(\"node_a\", \"node_b\")\n",
        "\n",
        "runner = graph.compile()\n",
        "runner.invoke(\"こんにちは\")"
      ],
      "metadata": {
        "colab": {
          "base_uri": "https://localhost:8080/"
        },
        "id": "ei03TkMEp-Yu",
        "outputId": "01d1e016-9ae3-4b7a-d68d-d75d08214019"
      },
      "execution_count": 8,
      "outputs": [
        {
          "output_type": "execute_result",
          "data": {
            "text/plain": [
              "[HumanMessage(content='こんにちは a b', additional_kwargs={}, response_metadata={}, id='d4ef45f5-b057-437f-94cf-e00679ca41bb')]"
            ]
          },
          "metadata": {},
          "execution_count": 8
        }
      ]
    },
    {
      "cell_type": "code",
      "source": [],
      "metadata": {
        "id": "VhR6Btrap-ic"
      },
      "execution_count": null,
      "outputs": []
    },
    {
      "cell_type": "code",
      "source": [],
      "metadata": {
        "id": "x8AxgXxrp-rV"
      },
      "execution_count": null,
      "outputs": []
    },
    {
      "cell_type": "markdown",
      "source": [
        "# StateGraph"
      ],
      "metadata": {
        "id": "kGwzUbZ5p-_u"
      }
    },
    {
      "cell_type": "code",
      "source": [
        "import getpass\n",
        "import os\n",
        "from typing import Annotated\n",
        "from typing_extensions import TypedDict\n",
        "\n",
        "from langgraph.graph import StateGraph\n",
        "from langgraph.graph.message import add_messages\n",
        "from langchain_openai import ChatOpenAI\n",
        "\n",
        "\n",
        "if not os.environ.get(\"OPENAI_API_KEY\"):\n",
        "    os.environ[\"OPENAI_API_KEY\"] = getpass.getpass(\"OpenAI API Key:\")\n",
        "\n",
        "llm = ChatOpenAI(temperature=0, model=\"gpt-3.5-turbo\")"
      ],
      "metadata": {
        "colab": {
          "base_uri": "https://localhost:8080/"
        },
        "id": "2TUz9yBMqBPK",
        "outputId": "753b8279-1b7e-45a6-dbf5-893f9484f7a4"
      },
      "execution_count": 9,
      "outputs": [
        {
          "name": "stdout",
          "output_type": "stream",
          "text": [
            "OpenAI API Key:··········\n"
          ]
        }
      ]
    },
    {
      "cell_type": "code",
      "source": [
        "class State(TypedDict):\n",
        "    messages: Annotated[list, add_messages]\n",
        "    api_call_count: int"
      ],
      "metadata": {
        "id": "bN2iem_0qBvE"
      },
      "execution_count": 10,
      "outputs": []
    },
    {
      "cell_type": "code",
      "source": [
        "def chatbot(state: State):\n",
        "    if not state[\"api_call_count\"]:\n",
        "        state[\"api_call_count\"] = 0\n",
        "    state[\"api_call_count\"] += 1\n",
        "    return {\"messages\": [llm.invoke(state[\"messages\"])], \"api_call_count\": state[\"api_call_count\"]}"
      ],
      "metadata": {
        "id": "0V0N0LVIqBzD"
      },
      "execution_count": 11,
      "outputs": []
    },
    {
      "cell_type": "code",
      "source": [
        "graph = StateGraph(State)\n",
        "\n",
        "graph.add_node(\"chatbot\", chatbot)\n",
        "graph.set_entry_point(\"chatbot\")\n",
        "graph.set_finish_point(\"chatbot\")\n",
        "runner = graph.compile()"
      ],
      "metadata": {
        "id": "k409RJ4SqB3B"
      },
      "execution_count": 12,
      "outputs": []
    },
    {
      "cell_type": "code",
      "source": [
        "display(Image(runner.get_graph().draw_mermaid_png()))"
      ],
      "metadata": {
        "colab": {
          "base_uri": "https://localhost:8080/",
          "height": 251
        },
        "id": "ud9nbaDx37bw",
        "outputId": "f5ed9333-ebce-47fa-8ef0-3d1d13082c99"
      },
      "execution_count": 13,
      "outputs": [
        {
          "output_type": "display_data",
          "data": {
            "image/png": "[encoded data removed]",
            "text/plain": [
              "<IPython.core.display.Image object>"
            ]
          },
          "metadata": {}
        }
      ]
    },
    {
      "cell_type": "code",
      "source": [
        "response = runner.invoke({\"messages\": [\"こんにちは\"], \"api_call_count\": 1})\n",
        "response[\"messages\"][-1].content"
      ],
      "metadata": {
        "colab": {
          "base_uri": "https://localhost:8080/",
          "height": 35
        },
        "id": "pHdUC41339BZ",
        "outputId": "46e2b45a-69d2-456f-c41d-636533c5cae9"
      },
      "execution_count": 14,
      "outputs": [
        {
          "output_type": "execute_result",
          "data": {
            "text/plain": [
              "'こんにちは！お元気ですか？何かお手伝いできることがありますか？'"
            ],
            "application/vnd.google.colaboratory.intrinsic+json": {
              "type": "string"
            }
          },
          "metadata": {},
          "execution_count": 14
        }
      ]
    },
    {
      "cell_type": "code",
      "source": [
        "response[\"api_call_count\"]"
      ],
      "metadata": {
        "colab": {
          "base_uri": "https://localhost:8080/"
        },
        "id": "aIteTjAytSgq",
        "outputId": "1d566c68-a79f-4f3e-c79b-b78be3169749"
      },
      "execution_count": 15,
      "outputs": [
        {
          "output_type": "execute_result",
          "data": {
            "text/plain": [
              "2"
            ]
          },
          "metadata": {},
          "execution_count": 15
        }
      ]
    },
    {
      "cell_type": "code",
      "source": [],
      "metadata": {
        "id": "xEIRZcUUtXPv"
      },
      "execution_count": null,
      "outputs": []
    },
    {
      "cell_type": "code",
      "source": [],
      "metadata": {
        "id": "lBSBI242tXWi"
      },
      "execution_count": null,
      "outputs": []
    },
    {
      "cell_type": "markdown",
      "source": [
        "# 条件付きエッジの利用"
      ],
      "metadata": {
        "id": "o5lhKIOLtXcK"
      }
    },
    {
      "cell_type": "code",
      "source": [
        "from langchain_core.tools import tool\n",
        "from langchain_core.messages import ToolMessage\n",
        "from langgraph.graph import END\n",
        "\n",
        "\n",
        "@tool\n",
        "def fake_database_api(query: str) -> str:\n",
        "    \"\"\"パーソナル情報を格納したデータベースを検索するAPI\"\"\"\n",
        "    return \"RYHが住んでいる場所は亀有です。\""
      ],
      "metadata": {
        "id": "CXzav_hFtXp-"
      },
      "execution_count": 24,
      "outputs": []
    },
    {
      "cell_type": "code",
      "source": [
        "class State(TypedDict):\n",
        "    messages: Annotated[list, add_messages]\n",
        "\n",
        "\n",
        "llm = ChatOpenAI(temperature=0, model=\"gpt-3.5-turbo\")\n",
        "llm_with_tools = llm.bind_tools([fake_database_api])"
      ],
      "metadata": {
        "id": "iXE1OFIhDUYY"
      },
      "execution_count": 25,
      "outputs": []
    },
    {
      "cell_type": "code",
      "source": [
        "def llm_agent(state):\n",
        "    state[\"messages\"].append(llm_with_tools.invoke(state[\"messages\"]))\n",
        "    return state\n",
        "\n",
        "def tool(state):\n",
        "    tool_by_name = {\"fake_database_api\": fake_database_api}\n",
        "    last_message = state[\"messages\"][-1]\n",
        "    tool_function = tool_by_name[last_message.tool_calls[0][\"name\"]]\n",
        "    tool_output = tool_function.invoke(last_message.tool_calls[0][\"args\"])\n",
        "    state[\"messages\"].append(ToolMessage(content=tool_output, tool_call_id=last_message.tool_calls[0][\"id\"]))\n",
        "    return state\n",
        "\n",
        "def router(state):\n",
        "    last_message = state[\"messages\"][-1]\n",
        "    if last_message.tool_calls:\n",
        "        return \"tool\"\n",
        "    else:\n",
        "        return \"__end__\""
      ],
      "metadata": {
        "id": "OWoVw-9BtS1S"
      },
      "execution_count": 26,
      "outputs": []
    },
    {
      "cell_type": "code",
      "source": [
        "graph = StateGraph(State)\n",
        "\n",
        "graph.add_node(\"llm_agent\", llm_agent)\n",
        "graph.add_node(\"tool\", tool)\n",
        "\n",
        "graph.set_entry_point(\"llm_agent\")\n",
        "graph.add_conditional_edges(\"llm_agent\",\n",
        "                            router,\n",
        "                            {\"tool\":\"tool\", \"__end__\": END})\n",
        "\n",
        "graph.add_edge(\"tool\", \"llm_agent\")\n",
        "\n",
        "runner = graph.compile()"
      ],
      "metadata": {
        "id": "WOtoocNGtow5"
      },
      "execution_count": 27,
      "outputs": []
    },
    {
      "cell_type": "code",
      "source": [
        "display(Image(runner.get_graph().draw_mermaid_png()))"
      ],
      "metadata": {
        "colab": {
          "base_uri": "https://localhost:8080/",
          "height": 266
        },
        "id": "mHlDQp5v3_JL",
        "outputId": "df21d553-1d5b-4417-92b2-b4e5efa47024"
      },
      "execution_count": 28,
      "outputs": [
        {
          "output_type": "display_data",
          "data": {
            "image/png": "[encoded data removed]",
            "text/plain": [
              "<IPython.core.display.Image object>"
            ]
          },
          "metadata": {}
        }
      ]
    },
    {
      "cell_type": "code",
      "source": [
        "def get_response(query: str):\n",
        "    response = runner.invoke({\"messages\": [query]})\n",
        "    # print(response)\n",
        "    return response[\"messages\"][-1].content"
      ],
      "metadata": {
        "id": "H_OaNjHMttum"
      },
      "execution_count": 29,
      "outputs": []
    },
    {
      "cell_type": "code",
      "source": [
        "get_response(\"RYHが住んでいるのはどこ？\")"
      ],
      "metadata": {
        "colab": {
          "base_uri": "https://localhost:8080/",
          "height": 35
        },
        "id": "4pz6u4bo4AmZ",
        "outputId": "0c0607b2-9b6c-440d-fd50-a7fdcf9a39c2"
      },
      "execution_count": 30,
      "outputs": [
        {
          "output_type": "execute_result",
          "data": {
            "text/plain": [
              "'RYHは亀有に住んでいます。'"
            ],
            "application/vnd.google.colaboratory.intrinsic+json": {
              "type": "string"
            }
          },
          "metadata": {},
          "execution_count": 30
        }
      ]
    }
  ]
}